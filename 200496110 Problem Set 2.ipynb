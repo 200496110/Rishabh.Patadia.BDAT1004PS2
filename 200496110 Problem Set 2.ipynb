{
 "cells": [
  {
   "cell_type": "markdown",
   "id": "ab948a2a",
   "metadata": {},
   "source": [
    "# Problem Set 2\n",
    "## Rishabh Patadia - 200496110, Section 3"
   ]
  },
  {
   "cell_type": "markdown",
   "id": "34710f6c",
   "metadata": {},
   "source": [
    "# Question 1\n",
    "<pre>\n",
    "Consider the following Python module:\n",
    "<blockquote>\n",
    "a = 0\n",
    "def b():\n",
    "    global a\n",
    "    a = c(a)\n",
    "def c(a):\n",
    "    return a + 2\n",
    "</blockquote>\n",
    "After importing the module into the interpreter, you execute:\n",
    "<blockquote>\n",
    ">>>b()\n",
    ">>>b()\n",
    ">>>b()\n",
    ">>>a\n",
    "</blockquote>\n",
    "What value is displayed when the last expression (a) is evaluated? Explain your \n",
    "answer by indicating what happens in every executed statement\n",
    "</pre>"
   ]
  },
  {
   "cell_type": "code",
   "execution_count": 1,
   "id": "e172e302",
   "metadata": {},
   "outputs": [
    {
     "data": {
      "text/plain": [
       "6"
      ]
     },
     "execution_count": 1,
     "metadata": {},
     "output_type": "execute_result"
    }
   ],
   "source": [
    "# Code given in the question\n",
    "\n",
    "# this statement declares and initialises the variable \"a\" to value of 0\n",
    "a = 0\n",
    "\n",
    "# here the function \"b\" is declared, since it is not called, its value is not read\n",
    "# that is why even of the funciton \"c\" is not defined, it does not raise any error\n",
    "# function declaration\n",
    "def b():\n",
    "    # here instead of initialising a local variable \"a\"\n",
    "    # global keyword is used to refer the global variable a from previous statement\n",
    "    global a\n",
    "    # in this statement the global value is changed to the value returned by \"c\" function\n",
    "    a = c(a)\n",
    "\n",
    "# function declaration, with accepting 1 argument\n",
    "def c(a):\n",
    "    # returning the input value in the function after incrementing it by 2\n",
    "    return a + 2\n",
    "\n",
    "\n",
    "# Code to be executed, Given in the question \n",
    "\n",
    "# a = 0\n",
    "b() # b calls c and passing value of a, c increment a by 2, \n",
    "# a = a + 2, a = 0 + 2,THEREFORE a = 2\n",
    "b() # b calls c and passing value of a, c increment a by 2, \n",
    "# a = a + 2, a = 2 + 2, THEREFORE a = 4\n",
    "b() # b calls c and passing value of a, c increment a by 2, \n",
    "# a = a + 2, a = 4 + 2, THEREFORE a = 6\n",
    "a # prints the current value of a = 6"
   ]
  },
  {
   "cell_type": "markdown",
   "id": "e1988d44",
   "metadata": {},
   "source": [
    "# Question 2\n",
    "<pre>\n",
    "Function fileLength(), given to you, takes the name of a file as input and returns \n",
    "the length of the file:\n",
    "<blockquote>\n",
    ">>> fileLength('midterm.py')\n",
    "284\n",
    ">>> fileLength('idterm.py')\n",
    "Traceback (most recent call last):\n",
    "File \"&ltpyshell#34&gt\", line 1, in &ltmodule&gt\n",
    " fileLength('idterm.py')\n",
    "File \"/Users/me/midterm.py\", line 3, in fileLength\n",
    " infile = open(filename)\n",
    "FileNotFoundError: [Errno 2] No such file or directory: \n",
    "'idterm.py'\n",
    "</blockquote>\n",
    "As shown above, if the file cannot be found by the interpreter or if it cannot be read \n",
    "as a text file, an exception will be raised. Modify function fileLength() so that a \n",
    "friendly message is printed instead:\n",
    "<blockquote>\n",
    ">>> fileLength('midterm.py')\n",
    "358\n",
    ">>> fileLength('idterm.py')\n",
    "File idterm.py not found.\n",
    "</blockquote>"
   ]
  },
  {
   "cell_type": "code",
   "execution_count": 2,
   "id": "1a8519dc",
   "metadata": {},
   "outputs": [],
   "source": [
    "# Code given in the question\n",
    "\n",
    "# function declaration and accepting 1 argument\n",
    "def file_length(file_name):\n",
    "    # inserting a try-except block to handle the errors raised\n",
    "    # in the try block the code that may raise the error is written\n",
    "    try:\n",
    "        # this statement opens a file name that is passed in the function\n",
    "        # if the file is not found it will raise \"FileNotFoundError\" error \n",
    "        # and move on to the \"except\" block\n",
    "        # if the file is found it is saved in the \"file\" variable \n",
    "        file = open(file_name)\n",
    "        # the contents of the \"file\" is read using \"read\" method and saved in the \"contents\" variable\n",
    "        contents = file.read()\n",
    "        # \"close\" method is used to free up the memory and give up the access of file from the system\n",
    "        file.close()\n",
    "        # \"len\" function is used to calculate the length of the contents varible, \n",
    "        #in this case it returns the charater count\n",
    "        print(len(contents))\n",
    "    # in the except block, code is written to handle the error\n",
    "    # if the error is mentioned, that specific error is handled, \n",
    "    #else all the error raised are handled\n",
    "    # here we are only handling the \"FileNotFoundError\" error\n",
    "    except FileNotFoundError:\n",
    "        # the \"format\" method is used to insert the value of the variable in the string, \n",
    "        # and the position of the varibale is decided by the \"{}\" in the string\n",
    "        print(\"File '{}' not found.\".format(file_name))"
   ]
  },
  {
   "cell_type": "code",
   "execution_count": 3,
   "id": "89f9de55",
   "metadata": {},
   "outputs": [
    {
     "name": "stdout",
     "output_type": "stream",
     "text": [
      "396\n"
     ]
    }
   ],
   "source": [
    "file_length('w3c.html') # the folder that contains this file also contains the \"w3c.html\" file"
   ]
  },
  {
   "cell_type": "code",
   "execution_count": 4,
   "id": "9fb994f2",
   "metadata": {},
   "outputs": [
    {
     "name": "stdout",
     "output_type": "stream",
     "text": [
      "File '3c.html' not found.\n"
     ]
    }
   ],
   "source": [
    "file_length('3c.html')"
   ]
  },
  {
   "cell_type": "markdown",
   "id": "9ca13fbc",
   "metadata": {},
   "source": [
    "# Question 3\n",
    "<pre>\n",
    "Write a class named Marsupial that can be used as shown below:\n",
    "<blockquote>\n",
    ">>> m = Marsupial()\n",
    ">>> m.put_in_pouch('doll')\n",
    ">>> m.put_in_pouch('firetruck')\n",
    ">>> m.put_in_pouch('kitten')\n",
    ">>> m.pouch_contents()\n",
    "['doll', 'firetruck', 'kitten']\n",
    "\n",
    "</blockquote>\n",
    "Now write a class named Kangaroo as a subclass of Marsupial \n",
    "that inherits all the attributes of Marsupial and also:\n",
    "    a. extends the Marsupial __init__ constructor to take, as input, \n",
    "    the coordinates x and y of the Kangaroo object,\n",
    "    b. supports method jump that takes number values dx and dy as input \n",
    "    and moves the kangaroo by dx units along the x-axis and by dy units\n",
    "    along the y axis, and\n",
    "    c. overloads the __str__ operator so it behaves as shown below.\n",
    "<blockquote>\n",
    ">>> k = Kangaroo(0,0)\n",
    ">>> print(k)\n",
    "I am a Kangaroo located at coordinates (0,0)\n",
    ">>> k.put_in_pouch('doll')\n",
    ">>> k.put_in_pouch('firetruck')\n",
    ">>> k.put_in_pouch('kitten')\n",
    ">>> k.pouch_contents()\n",
    "['doll', 'firetruck', 'kitten']\n",
    ">>> k.jump(1,0)\n",
    ">>> k.jump(1,0)\n",
    ">>> k.jump(1,0)\n",
    ">>> print(k)\n",
    "I am a Kangaroo located at coordinates (3,0)\n",
    "</blockquote>\n",
    "</pre>"
   ]
  },
  {
   "cell_type": "code",
   "execution_count": 5,
   "id": "a5a127d7",
   "metadata": {},
   "outputs": [
    {
     "name": "stdout",
     "output_type": "stream",
     "text": [
      "['doll', 'firetruck', 'kitten']\n",
      "I am a Kangaroo located at coordinates (0,0)\n",
      "['doll', 'firetruck', 'kitten']\n",
      "I am a Kangaroo located at coordinates (3,0)\n"
     ]
    }
   ],
   "source": [
    "# class definintion\n",
    "class Marsupial:\n",
    "    # using dunder methods or magic method to override the inbuilt \n",
    "    #method while instantiating the class\n",
    "    def __init__(self):\n",
    "        # intialising a blank array in \"contents\" variable \n",
    "        #when a new variable is instantiated \n",
    "        self.contents = []\n",
    "    # defining user defined method that adds the the passed \n",
    "    #argument to the contents array\n",
    "    def put_in_pouch(self, a):\n",
    "        # append is used to add an element in an array\n",
    "        self.contents.append(a)\n",
    "    # defining a user defined method to print the \"contents\" variable\n",
    "    def pouch_contents(self):\n",
    "        print(self.contents)\n",
    "\n",
    "# class definintion with inheritance\n",
    "class Kangaroo(Marsupial):\n",
    "    # using dunder methods or magic method to override the \n",
    "    #inbuilt method while instantiating the class\n",
    "    def __init__(self, x=0, y=0):\n",
    "        # using the inherited class __init__ method in the current class __init__ method\n",
    "        Marsupial.__init__(self)\n",
    "        # creating additional variables \"x\" and \"y\"\n",
    "        self.x = x\n",
    "        self.y = y\n",
    "    # overring the inbuilt string method to display a custom string\n",
    "    def __str__(self):\n",
    "        # the string method always needs to return a string\n",
    "        return \"I am a Kangaroo located at coordinates ({},{})\".format(self.x, self.y)\n",
    "    # custom method defined to add the interval passed as argument to the x-y coordinates\n",
    "    def jump(self, x, y):\n",
    "        self.x += x\n",
    "        self.y += y\n",
    "\n",
    "        \n",
    "        \n",
    "# Code to be executed, Given in the question \n",
    "#-----------------------------------\n",
    "m = Marsupial() # creating an instant of Marsupial class and storing in \"m\"\n",
    "m.put_in_pouch('doll') # adding the passed argument to the contents variable of \"m\"\n",
    "m.put_in_pouch('firetruck') # adding the passed argument to the contents variable of \"m\"\n",
    "m.put_in_pouch('kitten') # adding the passed argument to the contents variable of \"m\"\n",
    "m.pouch_contents() # displaying the \"contents\" variable of \"m\"\n",
    "\n",
    "#-----------------------------------\n",
    "k = Kangaroo(0,0) # creating an instant of Kangaroo class and storing in \"k\"\n",
    "print(k) # printing the \"k\" to call its __str__ method\n",
    "k.put_in_pouch('doll') # adding the passed argument to the contents variable of \"k\"\n",
    "k.put_in_pouch('firetruck') # adding the passed argument to the contents variable of \"k\"\n",
    "k.put_in_pouch('kitten') # adding the passed argument to the contents variable of \"k\"\n",
    "k.pouch_contents() # displaying the \"contents\" variable of \"k\"\n",
    "k.jump(1,0) # passing the change in values of x-y to the k\n",
    "k.jump(1,0) # passing the change in values of x-y to the k\n",
    "k.jump(1,0) # passing the change in values of x-y to the k\n",
    "print(k) # printing the \"k\" to call its __str__ method"
   ]
  },
  {
   "cell_type": "markdown",
   "id": "d65c8035",
   "metadata": {},
   "source": [
    "# Question 4\n",
    "<pre>\n",
    "Write function collatz() that takes a positive integer x as input and prints the \n",
    "Collatz sequence starting at x. A Collatz sequence is obtained by repeatedly applying \n",
    "this rule to the previous number x in the sequence:\n",
    "<blockquote>\n",
    "x = 𝑥/2; 𝑖𝑓 𝑥 𝑖𝑠 𝑒𝑣𝑒𝑛\n",
    "x = 3𝑥 + 1; 𝑖𝑓 𝑥 𝑖𝑠 𝑜𝑑𝑑\n",
    "</blockquote>\n",
    "Your function should stop when the sequence gets to number 1. \n",
    "<b>Your implementation must be recursive, without any loops</b>\n",
    "<blockquote>\n",
    ">>> collatz(1)\n",
    "1\n",
    ">>> collatz(10)\n",
    "10\n",
    "5\n",
    "16\n",
    "8\n",
    "4\n",
    "2\n",
    "1\n",
    "</blockquote>\n",
    "</pre>"
   ]
  },
  {
   "cell_type": "code",
   "execution_count": 6,
   "id": "e7d2baeb",
   "metadata": {},
   "outputs": [],
   "source": [
    "# defining a function which accepts 1 argument\n",
    "def collatz(x):\n",
    "    # printing the passed argument\n",
    "    print(x)\n",
    "    # checking whether the passed argument is 1\n",
    "    if (x == 1):\n",
    "        # if passed argument is 1 then terminating the function with null return\n",
    "        return\n",
    "    # if the passed argument is not 1, then checking whether the argument is a multiple of 2\n",
    "    elif (x%2 == 0):\n",
    "        # if the passed argument is a multiple of 2, then return is half, \n",
    "        # since division is a float opertration in python, conversion to \n",
    "        #int is necesary to display required output\n",
    "        return collatz(int(x/2))\n",
    "    # of the argument is not 1, not divisible by 2, then it must be an odd number other than 1\n",
    "    else:\n",
    "        # returning the 1 plus three times the argument\n",
    "        return collatz(3*x + 1)\n"
   ]
  },
  {
   "cell_type": "code",
   "execution_count": 7,
   "id": "b23e64c8",
   "metadata": {},
   "outputs": [
    {
     "name": "stdout",
     "output_type": "stream",
     "text": [
      "1\n"
     ]
    }
   ],
   "source": [
    "collatz(1)"
   ]
  },
  {
   "cell_type": "code",
   "execution_count": 8,
   "id": "5d898d81",
   "metadata": {},
   "outputs": [
    {
     "name": "stdout",
     "output_type": "stream",
     "text": [
      "10\n",
      "5\n",
      "16\n",
      "8\n",
      "4\n",
      "2\n",
      "1\n"
     ]
    }
   ],
   "source": [
    "collatz(10)"
   ]
  },
  {
   "cell_type": "markdown",
   "id": "486c3aea",
   "metadata": {},
   "source": [
    "# Question 5\n",
    "<pre>\n",
    "Write a recursive method binary() that takes a non-negative \n",
    "integer n and prints the binary representation of integer n.\n",
    "<blockquote>\n",
    ">>> binary(0)\n",
    "0\n",
    ">>> binary(1)\n",
    "1\n",
    ">>> binary(3)\n",
    "11\n",
    ">>> binary(9)\n",
    "1001\n",
    "</blockquote>\n",
    "</pre>"
   ]
  },
  {
   "cell_type": "code",
   "execution_count": 9,
   "id": "ee364e7a",
   "metadata": {},
   "outputs": [],
   "source": [
    "# defining UDF with one argument\n",
    "def binary(x):\n",
    "    # checks if arg equals to 1 or 0\n",
    "    if (x == 0 or x == 1):\n",
    "        # if so prints it\n",
    "        print(x, end=\"\")\n",
    "    else:\n",
    "        # else calls itself and passes the whole number of arg divided by 2\n",
    "        binary(x//2)\n",
    "        # then prints the remainder after diving by 2\n",
    "        print(x%2, end=\"\")"
   ]
  },
  {
   "cell_type": "code",
   "execution_count": 10,
   "id": "0de77619",
   "metadata": {
    "scrolled": false
   },
   "outputs": [
    {
     "name": "stdout",
     "output_type": "stream",
     "text": [
      "0"
     ]
    }
   ],
   "source": [
    "binary(0)"
   ]
  },
  {
   "cell_type": "code",
   "execution_count": 11,
   "id": "8a9f7041",
   "metadata": {
    "scrolled": false
   },
   "outputs": [
    {
     "name": "stdout",
     "output_type": "stream",
     "text": [
      "1"
     ]
    }
   ],
   "source": [
    "binary(1)"
   ]
  },
  {
   "cell_type": "code",
   "execution_count": 12,
   "id": "d2c18e3b",
   "metadata": {
    "scrolled": false
   },
   "outputs": [
    {
     "name": "stdout",
     "output_type": "stream",
     "text": [
      "11"
     ]
    }
   ],
   "source": [
    "binary(3)"
   ]
  },
  {
   "cell_type": "code",
   "execution_count": 13,
   "id": "7b679045",
   "metadata": {
    "scrolled": false
   },
   "outputs": [
    {
     "name": "stdout",
     "output_type": "stream",
     "text": [
      "1001"
     ]
    }
   ],
   "source": [
    "binary(9)"
   ]
  },
  {
   "cell_type": "code",
   "execution_count": 14,
   "id": "c2cde7f2",
   "metadata": {},
   "outputs": [
    {
     "name": "stdout",
     "output_type": "stream",
     "text": [
      "1010"
     ]
    }
   ],
   "source": [
    "binary(10)"
   ]
  },
  {
   "cell_type": "markdown",
   "id": "72edf92a",
   "metadata": {},
   "source": [
    "# Question 6\n",
    "<pre>\n",
    "Implement a class named HeadingParser that can be used to parse an HTML \n",
    "document, and retrieve and print all the headings in the document. <b>You should \n",
    "implement your class as a subclass of HTMLParser, defined in Standard Library \n",
    "module html.parser</b>. When fed a string containing HTML code, your class should \n",
    "print the headings, one per line and in the order in which they appear in the \n",
    "document. Each heading should be indented as follows: an h1 heading should have\n",
    "indentation 0, and h2 heading should have indentation 1, etc. Test your \n",
    "implementation using w3c.html.\n",
    "<blockquote>\n",
    ">>> infile = open('w3c.html')\n",
    ">>> content = infile.read()\n",
    ">>> infile.close()\n",
    ">>> hp = HeadingParser()\n",
    ">>> hp.feed(content)\n",
    "W3C Mission\n",
    "    Principles\n",
    "</blockquote>\n",
    "</pre>\n",
    "\n"
   ]
  },
  {
   "cell_type": "code",
   "execution_count": 15,
   "id": "31c84708",
   "metadata": {},
   "outputs": [
    {
     "name": "stdout",
     "output_type": "stream",
     "text": [
      " W3C Mission\n",
      "\t Principles\n"
     ]
    }
   ],
   "source": [
    "from html.parser import HTMLParser # to import the inbuilt class mentioned in the questionn\n",
    "\n",
    "# Given in the question\n",
    "infile = open('w3c.html')\n",
    "content = infile.read()\n",
    "infile.close()\n",
    "\n",
    "# implementing HeadingParser class as mentioned in the question\n",
    "class HeadingParser(HTMLParser):\n",
    "    rec = 0 # record of indent variable\n",
    "    look = {'h'+str(_+1):_ for _ in range(6)} # lookup table to identify the type of headinng for appropriate indent\n",
    "    prnt = False # flag variable to decide when to print\n",
    "\n",
    "    # overriding the handle_starttag method\n",
    "    def handle_starttag(self, tag, attrs):\n",
    "        # checking if the tag is any heading tag \n",
    "        if(tag in self.look.keys()):\n",
    "            #  change print flag to true\n",
    "            self.prnt = True\n",
    "            # changing the record of indent variable to appropriate indent\n",
    "            self.rec = self.look[tag]\n",
    "        else:\n",
    "            #  change print flag to true\n",
    "            self.prnt = False\n",
    "            # changing the record of indent variable to 0\n",
    "            self.rec = 0           \n",
    "\n",
    "    # overriding the handle_data method\n",
    "    def handle_data(self, data):\n",
    "        # checking if the print flag is true and the data is non empty string or string except all spaces\n",
    "        if (self.prnt and data.strip()!=''):\n",
    "            print(\"\\t\"*self.rec, data)\n",
    "\n",
    "#instantiating the HeadingParser class\n",
    "parser = HeadingParser()\n",
    "# feeding the content extracted from \"w3c.html\"\n",
    "parser.feed(content)"
   ]
  },
  {
   "cell_type": "markdown",
   "id": "b0de0f72",
   "metadata": {},
   "source": [
    "# Question 7\n",
    "<pre>\n",
    "Implement recursive function webdir() that takes as input: a URL (as a string) and \n",
    "non-negative integers depth and indent. Your function should visit every web \n",
    "page reachable from the starting URL web page in depth clicks or less, and print \n",
    "each web page's URL. As shown below, indentation, specified by indent, should \n",
    "be used to indicate the depth of a URL.\n",
    "<blockquote>\n",
    ">>> webdir('http://reed.cs.depaul.edu/lperkovic/csc242/test1.html', 2, 0)\n",
    "http://reed.cs.depaul.edu/lperkovic/csc242/test1.html\n",
    "    http://reed.cs.depaul.edu/lperkovic/csc242/test2.html\n",
    "        http://reed.cs.depaul.edu/lperkovic/csc242/test4.html\n",
    "    http://reed.cs.depaul.edu/lperkovic/csc242/test3.html\n",
    "        http://reed.cs.depaul.edu/lperkovic/csc242/test4.html\n",
    "</blockquote>\n",
    "</pre>"
   ]
  },
  {
   "cell_type": "code",
   "execution_count": 16,
   "id": "f173e63b",
   "metadata": {},
   "outputs": [
    {
     "name": "stdout",
     "output_type": "stream",
     "text": [
      "http://reed.cs.depaul.edu/lperkovic/test1.html\n",
      "<!DOCTYPE HTML PUBLIC \"-//W3C//DTD HTML 4.01 Transitional//EN\">\n",
      "<html>\n",
      "<head>\n",
      "  <title>Test page</title>\n",
      "</head>\n",
      "<body>\n",
      "<h2> Hello World </h2>\n",
      "<a href=\"http://reed.cs.depaul.edu/lperkovic/test2.html\"> Link\n",
      "to test2.html </a>\n",
      "<p> <a href=\"test3.html\"> Link to test3.html</a><br>\n",
      "</p>\n",
      "<p>Paris Paris Paris<br>\n",
      "Tokyo<br>\n",
      "</p>\n",
      "</body>\n",
      "</html>\n",
      "\n",
      "['http://reed.cs.depaul.edu/lperkovic/http://reed.cs.depaul.edu/lperkovic/test2.html', 'http://reed.cs.depaul.edu/lperkovic/test3.html']\n"
     ]
    }
   ],
   "source": [
    "import requests\n",
    "from bs4 import BeautifulSoup\n",
    "def webdir(url, depth, indent):\n",
    "    print(\"\\t\"*indent + url)\n",
    "    if (depth==0):\n",
    "        return\n",
    "    listOfUrl = []\n",
    "    grab = requests.get(url)\n",
    "    print(grab.text)\n",
    "    soup = BeautifulSoup(grab.text, 'html.parser')\n",
    "\n",
    "    for link in soup.find_all(\"a\"):\n",
    "        data = link.get('href')\n",
    "        listOfUrl.append(url[:-11:1]+\"/\"+data)\n",
    "    print(listOfUrl)\n",
    "    for _ in listOfUrl:\n",
    "        if (_[-4:0].lower() == \"html\"):\n",
    "            webdir(_, depth-1, indent+1)\n",
    "\n",
    "webdir('http://reed.cs.depaul.edu/lperkovic/test1.html', 2, 0)"
   ]
  },
  {
   "attachments": {
    "image-2.png": {
     "image/png": "[encoded data removed]"
    }
   },
   "cell_type": "markdown",
   "id": "54a967d2",
   "metadata": {},
   "source": [
    "# Question 8\n",
    "<pre>\n",
    "Write SQL queries on the below database table that return: \n",
    "a) All the temperature data.\n",
    "b) All the cities, but without repetition.\n",
    "c) All the records for India.\n",
    "d) All the Fall records.\n",
    "e) The city, country, and season for which the average rainfall is between 200 \n",
    "and 400 millimeters.\n",
    "f) The city and country for which the average Fall temperature is above 20 \n",
    "degrees, in increasing temperature order.\n",
    "g) The total annual rainfall for Cairo.\n",
    "h) The total rainfall for each season.\n",
    "</pre>\n",
    "![image-2.png](attachment:image-2.png)"
   ]
  },
  {
   "cell_type": "markdown",
   "id": "0a79b393",
   "metadata": {},
   "source": [
    "# Assumptions:\n",
    "### 1. Since the column names cannot have space in the SQL \n",
    "### column names are (City, Country, Season, Temperature, Rainfall)\n",
    "### 2. Table name is weatherData \n",
    "\n",
    "# a\n",
    "SELECT Temperature FROM weatherData;\n",
    "\n",
    "# b\n",
    "SELECT DISTINCT City FROM weatherData;\n",
    "\n",
    "# c\n",
    "SELECT * FROM weatherData WHERE Country = 'India';\n",
    "\n",
    "# d\n",
    "SELECT * FROM weatherData WHERE Season = 'Fall';\n",
    "\n",
    "# e\n",
    "SELECT City, Country, Season FROM weatherData WHERE Rainfall>=200 AND Rainfall<=400;\n",
    "\n",
    "# f\n",
    "SELECT City, Country FROM weatherData WHERE Season = 'Fall' AND Temperature>20 ORDER BY Temperature ASC;\n",
    "\n",
    "# g\n",
    "SELECT SUM(Rainfall) FROM weatherData WHERE City = 'Cairo';\n",
    "\n",
    "# h\n",
    "SELECT SUM(Rainfall) FROM weatherData WHERE Season = 'Winter';<br>\n",
    "SELECT SUM(Rainfall) FROM weatherData WHERE Season = 'Spring';<br>\n",
    "SELECT SUM(Rainfall) FROM weatherData WHERE Season = 'Summer';<br>\n",
    "SELECT SUM(Rainfall) FROM weatherData WHERE Season = 'Fall';<br>\n"
   ]
  },
  {
   "cell_type": "markdown",
   "id": "bc067e1d",
   "metadata": {},
   "source": [
    "# Question 9\n",
    "<pre>\n",
    "Suppose list words is defined as follows:\n",
    "<blockquote>\n",
    ">>> words = ['The', 'quick', 'brown', 'fox', 'jumps', 'over', 'the', 'lazy', 'dog']\n",
    "</blockquote>\n",
    "\n",
    "Write list comprehension expressions that use list words and generate the following \n",
    "lists:\n",
    "    a) ['THE', 'QUICK', 'BROWN', 'FOX', 'JUMPS', 'OVER', 'THE', \n",
    "    'LAZY', 'DOG']\n",
    "    b) ['the', 'quick', 'brown', 'fox', 'jumps', 'over', 'the', \n",
    "    'lazy', 'dog']\n",
    "    c) [3, 5, 5, 3, 5, 4, 3, 4, 3] (the list of lengths of words in list \n",
    "    words).\n",
    "    d) [['THE', 'the', 3], ['QUICK', 'quick', 5], ['BROWN', \n",
    "    'brown', 5], ['FOX', 'fox', 3], ['JUMPS', 'jumps', 5], \n",
    "    ['OVER', 'over', 4], ['THE', 'the', 3], ['LAZY', 'lazy', \n",
    "    4], ['DOG', 'dog', 3]] (the list containing a list for every word of list \n",
    "    words, where each list contains the word in uppercase and lowercase and the \n",
    "    length of the word.)\n",
    "    e) ['The', 'quick', 'brown', 'fox', 'jumps', 'over', 'the', \n",
    "'lazy', 'dog'] (the list of words in list words containing 4 or more \n",
    "characters.)\n",
    "</pre>"
   ]
  },
  {
   "cell_type": "code",
   "execution_count": 18,
   "id": "d4d78139",
   "metadata": {},
   "outputs": [
    {
     "name": "stdout",
     "output_type": "stream",
     "text": [
      "Ans A = ['THE', 'QUICK', 'BROWN', 'FOX', 'JUMPS', 'OVER', 'THE', 'LAZY', 'DOG']\n",
      "Ans B = ['the', 'quick', 'brown', 'fox', 'jumps', 'over', 'the', 'lazy', 'dog']\n",
      "Ans C = [3, 5, 5, 3, 5, 4, 3, 4, 3]\n",
      "Ans D = [['THE', 'the', 3], ['QUICK', 'quick', 5], ['BROWN', 'brown', 5], ['FOX', 'fox', 3], ['JUMPS', 'jumps', 5], ['OVER', 'over', 4], ['THE', 'the', 3], ['LAZY', 'lazy', 4], ['DOG', 'dog', 3]]\n",
      "Ans E = ['quick', 'brown', 'jumps', 'over', 'lazy']\n"
     ]
    }
   ],
   "source": [
    "# Given in the question\n",
    "words = ['The', 'quick', 'brown', 'fox', 'jumps', 'over', 'the', 'lazy', 'dog']\n",
    "\n",
    "# This is the general template of list comprehension\n",
    "# newList = [ expression(element) for element in oldList if condition ]    => from GFG\n",
    "# This expression calculates the list of new elements in newList which contains expression\n",
    "# applied on every element in oldList if the condition is true\n",
    "\n",
    "# Answer A\n",
    "# Here the expression is element.upper()\n",
    "AnswerA = [_.upper() for _ in words]\n",
    "print(\"Ans A =\", AnswerA)\n",
    "\n",
    "# Answer B\n",
    "# Here the expression is element.lower()\n",
    "AnswerB = [_.lower() for _ in words]\n",
    "print(\"Ans B =\", AnswerB)\n",
    "\n",
    "# Answer C\n",
    "# Here the expression is len(element)\n",
    "AnswerC = [ len(_) for _ in words]\n",
    "print(\"Ans C =\", AnswerC)\n",
    "\n",
    "# Answer D\n",
    "# Here the expression is [element.upper(), element.lower(), len(element)]\n",
    "AnswerD = [[_.upper(), _.lower(), len(_)] for _ in words]\n",
    "print(\"Ans D =\", AnswerD)\n",
    "\n",
    "# Answer E\n",
    "# Here the expression is element with the condition as len(element>4)\n",
    "AnswerE = [_ for _ in words if len(_)>=4]\n",
    "print(\"Ans E =\", AnswerE)\n"
   ]
  }
 ],
 "metadata": {
  "kernelspec": {
   "display_name": "Python 3 (ipykernel)",
   "language": "python",
   "name": "python3"
  },
  "language_info": {
   "codemirror_mode": {
    "name": "ipython",
    "version": 3
   },
   "file_extension": ".py",
   "mimetype": "text/x-python",
   "name": "python",
   "nbconvert_exporter": "python",
   "pygments_lexer": "ipython3",
   "version": "3.9.7"
  }
 },
 "nbformat": 4,
 "nbformat_minor": 5
}
